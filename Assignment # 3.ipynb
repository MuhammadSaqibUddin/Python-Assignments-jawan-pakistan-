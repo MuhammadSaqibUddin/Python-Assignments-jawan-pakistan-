{
 "cells": [
  {
   "cell_type": "code",
   "execution_count": 5,
   "metadata": {},
   "outputs": [
    {
     "name": "stdout",
     "output_type": "stream",
     "text": [
      "Twinkle, twinkle, little star,\n",
      "\tHow I wonder what you are!\n",
      "\t\tUp above the world so high,\n",
      "\t\tLike a diamond in the sky.\n",
      "Twinkle, twinkle, little star,\n",
      "\tHow I wonder what you are\n"
     ]
    }
   ],
   "source": [
    "#Q1\n",
    "print(\"Twinkle, twinkle, little star,\"\n",
    "+\"\\n\\tHow I wonder what you are!\"\n",
    "+\"\\n\\t\\tUp above the world so high,\"\n",
    "+\"\\n\\t\\tLike a diamond in the sky.\"\n",
    "+\"\\nTwinkle, twinkle, little star,\"\n",
    "+\"\\n\\tHow I wonder what you are\");"
   ]
  },
  {
   "cell_type": "code",
   "execution_count": 7,
   "metadata": {},
   "outputs": [
    {
     "name": "stdout",
     "output_type": "stream",
     "text": [
      "3.7.6 (default, Jan  8 2020, 20:23:39) [MSC v.1916 64 bit (AMD64)]\n"
     ]
    }
   ],
   "source": [
    "#Q2 Write a Python program to get the Python version you are using\n",
    "import sys\n",
    "print(sys.version);"
   ]
  },
  {
   "cell_type": "code",
   "execution_count": 8,
   "metadata": {},
   "outputs": [
    {
     "name": "stdout",
     "output_type": "stream",
     "text": [
      "2021-10-25 00:52:29.922561\n"
     ]
    }
   ],
   "source": [
    "#Q3 Write a Python program to display the current date and time.\n",
    "import datetime\n",
    "print(datetime.datetime.now())"
   ]
  },
  {
   "cell_type": "code",
   "execution_count": 10,
   "metadata": {},
   "outputs": [
    {
     "name": "stdout",
     "output_type": "stream",
     "text": [
      "Input the radius of the circle : 3.55\n",
      "The area of the circle with radius 3.55 is: 39.59192141686537\n"
     ]
    }
   ],
   "source": [
    "#Q4 Write a Python program which accepts the radius of a circle from the user and compute the area.\n",
    "import math\n",
    "rad = float(input (\"Input the radius of the circle : \"))\n",
    "print (\"The area of the circle with radius \" + str(rad) + \" is: \" + str(math.pi * (rad**2)))"
   ]
  },
  {
   "cell_type": "code",
   "execution_count": 11,
   "metadata": {},
   "outputs": [
    {
     "name": "stdout",
     "output_type": "stream",
     "text": [
      "Input your First Name : saqib\n",
      "Input your Last Name : uddin\n",
      "uddin saqib\n"
     ]
    }
   ],
   "source": [
    "#Q4 Write a Python program which accepts the user's first and last name and print them in reverse order with a space between them.\n",
    "fname = input(\"Input your First Name : \")\n",
    "lname = input(\"Input your Last Name : \")\n",
    "print (lname + \" \" + fname)"
   ]
  },
  {
   "cell_type": "code",
   "execution_count": 12,
   "metadata": {},
   "outputs": [
    {
     "name": "stdout",
     "output_type": "stream",
     "text": [
      "Input First Number : 23\n",
      "Input Second Number : 666\n",
      "689.0\n"
     ]
    }
   ],
   "source": [
    "#Q6 Write a python program which takes two inputs from user and print them addition\n",
    "n1 = float(input(\"Input First Number : \"))\n",
    "n2 = float(input(\"Input Second Number : \"))\n",
    "ans = n1 + n2\n",
    "print (ans)"
   ]
  },
  {
   "cell_type": "code",
   "execution_count": 14,
   "metadata": {},
   "outputs": [
    {
     "name": "stdout",
     "output_type": "stream",
     "text": [
      "Enter English Marks45\n",
      "Enter Islamiat Marks79\n",
      "Enter Maths Marks90\n",
      "Enter Science Marks65\n",
      "Enter Computer Marks55\n",
      "Your Grade is B\n"
     ]
    }
   ],
   "source": [
    "#Q7 Write a program which takes 5 inputs from user for different subject’s marks, total it and generate mark sheet using grades ?\n",
    "eng = float(input(\"Enter English Marks\"));\n",
    "isl = float(input(\"Enter Islamiat Marks\"));\n",
    "maths = float(input(\"Enter Maths Marks\"));\n",
    "science = float(input(\"Enter Science Marks\"));\n",
    "computer = float(input(\"Enter Computer Marks\"));\n",
    "total = 500;\n",
    "percent = (eng + isl + maths + science + computer)/total*100;\n",
    "if percent < 100 and percent >= 80:\n",
    "    print(\"Your Grade is A+\");\n",
    "elif percent < 80 and percent >= 70:\n",
    "    print(\"Your Grade is A\");\n",
    "elif percent < 70 and percent >= 60:\n",
    "    print(\"Your Grade is B\");\n",
    "elif percent < 60 and percent >= 50:\n",
    "    print(\"Your Grade is C\");\n",
    "elif percent < 50 and percent >= 40:\n",
    "    print(\"Your Grade is D\");\n",
    "elif percent < 40 and percent >= 33:\n",
    "    print(\"Your Grade is E\");\n",
    "elif percent < 0 and percent > 100:\n",
    "    print(\"Please write the correct marks again.\");\n",
    "else:\n",
    "    print(\"Fail\")"
   ]
  },
  {
   "cell_type": "code",
   "execution_count": 16,
   "metadata": {},
   "outputs": [
    {
     "name": "stdout",
     "output_type": "stream",
     "text": [
      "Enter a number: 7\n",
      "7 is an odd number.\n"
     ]
    }
   ],
   "source": [
    "#Q8 Write a program which take input from user and identify that the given number is even or odd?\n",
    "num = int(input(\"Enter a number: \"))\n",
    "\n",
    "if num % 2 == 0:\n",
    "    print(str(num) +\" is an even number.\")\n",
    "else:\n",
    "    print(str(num) +\" is an odd number.\")"
   ]
  },
  {
   "cell_type": "code",
   "execution_count": 19,
   "metadata": {},
   "outputs": [
    {
     "name": "stdout",
     "output_type": "stream",
     "text": [
      "11\n"
     ]
    }
   ],
   "source": [
    "#Q9 Write a program which print the length of the list?\n",
    "a = [1, 1, 2, 3, 5, 8, 13, 21, 34, 55, 89]\n",
    "print(len(a))"
   ]
  },
  {
   "cell_type": "code",
   "execution_count": 3,
   "metadata": {},
   "outputs": [
    {
     "name": "stdout",
     "output_type": "stream",
     "text": [
      "Sum of all numeric elements in given list:  468\n"
     ]
    }
   ],
   "source": [
    "#Q10 Write a Python program to sum all the numeric items in a list?\n",
    "lst = [\"erer\",453,3,\"rddd\",\"fert\",\"et\",12]\n",
    "total = 0;\n",
    "for a in range(0, len(lst)):\n",
    "    if isinstance(lst[a], int):\n",
    "        total = total + lst[a]\n",
    "print(\"Sum of all numeric elements in given list: \", total);"
   ]
  },
  {
   "cell_type": "code",
   "execution_count": 8,
   "metadata": {},
   "outputs": [
    {
     "name": "stdout",
     "output_type": "stream",
     "text": [
      "Largest number:  89\n"
     ]
    }
   ],
   "source": [
    "#Q11 Write a Python program to get the largest number from a numeric list.\n",
    "a = [1, 1, 2, 3, 5, 8, 13, 21, 34, 55, 89]\n",
    "large = 0\n",
    "for i in range(0, len(a)):\n",
    "    if i < len(a)-1:\n",
    "        if a[i + 1] >= a[i]:\n",
    "            large = a[i + 1]\n",
    "print(\"Largest number: \", large);"
   ]
  },
  {
   "cell_type": "code",
   "execution_count": 9,
   "metadata": {},
   "outputs": [
    {
     "name": "stdout",
     "output_type": "stream",
     "text": [
      "1\n",
      "1\n",
      "2\n",
      "3\n"
     ]
    }
   ],
   "source": [
    "#Q12 Write a program that prints out all the elements of the list that are less than 5.\n",
    "a = [1, 1, 2, 3, 5, 8, 13, 21, 34, 55, 89]\n",
    "for i in range(0, len(a)):\n",
    "    if a[i] < 5:\n",
    "        print(a[i]);"
   ]
  },
  {
   "cell_type": "code",
   "execution_count": null,
   "metadata": {},
   "outputs": [],
   "source": []
  }
 ],
 "metadata": {
  "kernelspec": {
   "display_name": "Python 3",
   "language": "python",
   "name": "python3"
  },
  "language_info": {
   "codemirror_mode": {
    "name": "ipython",
    "version": 3
   },
   "file_extension": ".py",
   "mimetype": "text/x-python",
   "name": "python",
   "nbconvert_exporter": "python",
   "pygments_lexer": "ipython3",
   "version": "3.7.6"
  }
 },
 "nbformat": 4,
 "nbformat_minor": 4
}
